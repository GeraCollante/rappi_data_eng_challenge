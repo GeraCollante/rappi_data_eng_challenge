{
 "cells": [
  {
   "cell_type": "code",
   "execution_count": 1,
   "id": "04b65709",
   "metadata": {},
   "outputs": [
    {
     "name": "stdout",
     "output_type": "stream",
     "text": [
      "Collecting pandas\n",
      "  Using cached pandas-1.2.4-cp39-cp39-manylinux1_x86_64.whl (9.7 MB)\n",
      "Collecting numpy>=1.16.5\n",
      "  Using cached numpy-1.20.3-cp39-cp39-manylinux_2_12_x86_64.manylinux2010_x86_64.whl (15.4 MB)\n",
      "Collecting pytz>=2017.3\n",
      "  Using cached pytz-2021.1-py2.py3-none-any.whl (510 kB)\n",
      "Requirement already satisfied: python-dateutil>=2.7.3 in ./rappi_env/lib/python3.9/site-packages (from pandas) (2.8.1)\n",
      "Requirement already satisfied: six>=1.5 in ./rappi_env/lib/python3.9/site-packages (from python-dateutil>=2.7.3->pandas) (1.16.0)\n",
      "Installing collected packages: pytz, numpy, pandas\n",
      "Successfully installed numpy-1.20.3 pandas-1.2.4 pytz-2021.1\n"
     ]
    }
   ],
   "source": [
    "!pip install pandas"
   ]
  },
  {
   "cell_type": "code",
   "execution_count": 34,
   "id": "5b1f0ea3",
   "metadata": {},
   "outputs": [
    {
     "name": "stdout",
     "output_type": "stream",
     "text": [
      "Collecting matplotlib\n",
      "  Downloading matplotlib-3.4.2-cp39-cp39-manylinux1_x86_64.whl (10.3 MB)\n",
      "\u001b[K     |████████████████████████████████| 10.3 MB 3.7 MB/s eta 0:00:01\n",
      "\u001b[?25hCollecting pyparsing>=2.2.1\n",
      "  Using cached pyparsing-2.4.7-py2.py3-none-any.whl (67 kB)\n",
      "Requirement already satisfied: numpy>=1.16 in ./rappi_env/lib/python3.9/site-packages (from matplotlib) (1.20.3)\n",
      "Collecting cycler>=0.10\n",
      "  Using cached cycler-0.10.0-py2.py3-none-any.whl (6.5 kB)\n",
      "Requirement already satisfied: python-dateutil>=2.7 in ./rappi_env/lib/python3.9/site-packages (from matplotlib) (2.8.1)\n",
      "Collecting kiwisolver>=1.0.1\n",
      "  Using cached kiwisolver-1.3.1-cp39-cp39-manylinux1_x86_64.whl (1.2 MB)\n",
      "Collecting pillow>=6.2.0\n",
      "  Downloading Pillow-8.2.0-cp39-cp39-manylinux1_x86_64.whl (3.0 MB)\n",
      "\u001b[K     |████████████████████████████████| 3.0 MB 3.3 MB/s eta 0:00:01\n",
      "\u001b[?25hRequirement already satisfied: six in ./rappi_env/lib/python3.9/site-packages (from cycler>=0.10->matplotlib) (1.16.0)\n",
      "Installing collected packages: pyparsing, pillow, kiwisolver, cycler, matplotlib\n",
      "Successfully installed cycler-0.10.0 kiwisolver-1.3.1 matplotlib-3.4.2 pillow-8.2.0 pyparsing-2.4.7\n"
     ]
    }
   ],
   "source": [
    "!pip install matplotlib"
   ]
  },
  {
   "cell_type": "markdown",
   "id": "e3ce4bb0",
   "metadata": {},
   "source": [
    "!pip freeze"
   ]
  },
  {
   "cell_type": "markdown",
   "id": "3ad668f7",
   "metadata": {},
   "source": [
    "# Librerías"
   ]
  },
  {
   "cell_type": "code",
   "execution_count": 281,
   "id": "a7731326",
   "metadata": {},
   "outputs": [],
   "source": [
    "import pandas as pd\n",
    "import numpy as np\n",
    "import matplotlib.pyplot as plt\n",
    "from IPython.display import display\n",
    "\n",
    "DEBUG = True"
   ]
  },
  {
   "cell_type": "markdown",
   "id": "1fe1bfeb",
   "metadata": {},
   "source": [
    "# Carga de datos"
   ]
  },
  {
   "cell_type": "code",
   "execution_count": 282,
   "id": "d0d13508",
   "metadata": {},
   "outputs": [],
   "source": [
    "DATADIR = 'data'\n",
    "FILENAME = 'challenge_orders.csv'\n",
    "PATH = os.path.join(DATADIR, FILENAME)"
   ]
  },
  {
   "cell_type": "code",
   "execution_count": 283,
   "id": "363bbbbf",
   "metadata": {},
   "outputs": [],
   "source": [
    "df = pd.read_csv(PATH, index_col=0, parse_dates=['CREATED_AT'])"
   ]
  },
  {
   "cell_type": "markdown",
   "id": "78d3946c",
   "metadata": {},
   "source": [
    "## Preprocesamiento"
   ]
  },
  {
   "cell_type": "code",
   "execution_count": 284,
   "id": "966334ee",
   "metadata": {},
   "outputs": [],
   "source": [
    "df.rename(columns={'ORDER_ID':'order', \n",
    "                   'PRODUCT_ID':'product', \n",
    "                   'PAYMENT_METHOD':'pay', \n",
    "                   'TOTAL_VALUE':'total', \n",
    "                   'CREATED_AT':'created', \n",
    "                   'STORE_TO_USER_DISTANCE':'dist', \n",
    "                   'OBSF_USER_ID':'user', \n",
    "                   'OBSF_STORE_TYPE':'store'}, inplace=True)\n",
    "df.total = df.total.astype(int)\n",
    "df.dist = df.dist.astype(int)"
   ]
  },
  {
   "cell_type": "markdown",
   "id": "3310bafc",
   "metadata": {},
   "source": [
    "# Necesidades de negocio"
   ]
  },
  {
   "cell_type": "markdown",
   "id": "736d6aec",
   "metadata": {},
   "source": [
    "## Ranking por tipo de tienda que más dólares generó\n",
    "Se agrupó por ```store```, sumando sus valores y luego ordenandolos de mayor a menor."
   ]
  },
  {
   "cell_type": "code",
   "execution_count": 285,
   "id": "3ea2b80c",
   "metadata": {},
   "outputs": [],
   "source": [
    "def get_revenue_per_store(df:pd.DataFrame)->pd.DataFrame:\n",
    "    revenue = df.groupby(by='store').sum().total.sort_values(ascending=False).to_frame() \\\n",
    "    .rename(columns={'total':'revenue'})\n",
    "    return revenue"
   ]
  },
  {
   "cell_type": "code",
   "execution_count": 286,
   "id": "c316a7dc",
   "metadata": {},
   "outputs": [],
   "source": [
    "revenue = get_revenue_per_store(df)"
   ]
  },
  {
   "cell_type": "code",
   "execution_count": 287,
   "id": "bc3584a0",
   "metadata": {},
   "outputs": [
    {
     "data": {
      "text/html": [
       "<div>\n",
       "<style scoped>\n",
       "    .dataframe tbody tr th:only-of-type {\n",
       "        vertical-align: middle;\n",
       "    }\n",
       "\n",
       "    .dataframe tbody tr th {\n",
       "        vertical-align: top;\n",
       "    }\n",
       "\n",
       "    .dataframe thead th {\n",
       "        text-align: right;\n",
       "    }\n",
       "</style>\n",
       "<table border=\"1\" class=\"dataframe\">\n",
       "  <thead>\n",
       "    <tr style=\"text-align: right;\">\n",
       "      <th></th>\n",
       "      <th>revenue</th>\n",
       "    </tr>\n",
       "    <tr>\n",
       "      <th>store</th>\n",
       "      <th></th>\n",
       "    </tr>\n",
       "  </thead>\n",
       "  <tbody>\n",
       "    <tr>\n",
       "      <th>1</th>\n",
       "      <td>201929817</td>\n",
       "    </tr>\n",
       "    <tr>\n",
       "      <th>13</th>\n",
       "      <td>21517956</td>\n",
       "    </tr>\n",
       "    <tr>\n",
       "      <th>9</th>\n",
       "      <td>18329730</td>\n",
       "    </tr>\n",
       "    <tr>\n",
       "      <th>4</th>\n",
       "      <td>5827298</td>\n",
       "    </tr>\n",
       "    <tr>\n",
       "      <th>5</th>\n",
       "      <td>4301348</td>\n",
       "    </tr>\n",
       "  </tbody>\n",
       "</table>\n",
       "</div>"
      ],
      "text/plain": [
       "         revenue\n",
       "store           \n",
       "1      201929817\n",
       "13      21517956\n",
       "9       18329730\n",
       "4        5827298\n",
       "5        4301348"
      ]
     },
     "execution_count": 287,
     "metadata": {},
     "output_type": "execute_result"
    }
   ],
   "source": [
    "revenue.head()"
   ]
  },
  {
   "cell_type": "markdown",
   "id": "b6ff3fe8",
   "metadata": {},
   "source": [
    "## Proporción por medio de pago\n",
    "Primero se filtro por medio de pago, *i.e.* ```pay``` y luego se agrupó por ```store``` calculando la suma total. Este procedimiento se debe realizar dos veces, una por método de pago, pero con la función ```get_revenue_by_pay_method``` es posible obtener este cálculo extendiendolo a $n$ métodos de pago."
   ]
  },
  {
   "cell_type": "markdown",
   "id": "de457fda",
   "metadata": {},
   "source": [
    "### Método 1"
   ]
  },
  {
   "cell_type": "code",
   "execution_count": null,
   "id": "6c59414e",
   "metadata": {},
   "outputs": [],
   "source": [
    "def get_revenue_by_pay_method(df:pd.DataFrame, pay_method:str)->pd.DataFrame:\n",
    "    # Filter and group-by\n",
    "    gb = df[df.pay==pay_method].groupby(by='store').sum().total\n",
    "    # Transform to DataFrame\n",
    "    revenue_per_pay_method = gb.to_frame().rename(columns={'total':f'revenue_{pay_method}'})\n",
    "    # Match total and revenue per pay method\n",
    "    return revenue_per_pay_method"
   ]
  },
  {
   "cell_type": "code",
   "execution_count": null,
   "id": "d509ae15",
   "metadata": {},
   "outputs": [],
   "source": [
    "# Get revenue per payment method\n",
    "revenue_cc = get_revenue_by_pay_method(df,'cc')\n",
    "revenue_cash = get_revenue_by_pay_method(df,'cash')"
   ]
  },
  {
   "cell_type": "code",
   "execution_count": null,
   "id": "5bc510d6",
   "metadata": {},
   "outputs": [],
   "source": [
    "# Concat dfs\n",
    "my_df = pd.concat([gen_usd, revenue_cc, revenue_cash], axis=1).fillna(0).astype(int)"
   ]
  },
  {
   "cell_type": "code",
   "execution_count": null,
   "id": "bf98887e",
   "metadata": {},
   "outputs": [],
   "source": [
    "# Revenue per df\n",
    "my_df['pct_cc'] = my_df.revenue_cc/my_df.revenue\n",
    "my_df['pct_cash'] = my_df.revenue_cash/my_df.revenue"
   ]
  },
  {
   "cell_type": "code",
   "execution_count": null,
   "id": "c1a11513",
   "metadata": {},
   "outputs": [],
   "source": [
    "my_df"
   ]
  },
  {
   "cell_type": "markdown",
   "id": "d16e6ba6",
   "metadata": {},
   "source": [
    "### Método 2"
   ]
  },
  {
   "cell_type": "code",
   "execution_count": 288,
   "id": "59de4747",
   "metadata": {},
   "outputs": [],
   "source": [
    "def get_pct_by_pay_method(df:pd.DataFrame, pay_method:str)->pd.DataFrame:\n",
    "    # Filter and group-by\n",
    "    revenue_per_store = get_revenue_per_store(df)\n",
    "    revenue_per_store_filtered = df[df.pay==pay_method].groupby(by='store').sum().total.to_frame() \\\n",
    "    .rename(columns={'total':f'revenue_{pay_method}'})\n",
    "    # Match total and revenue per pay method\n",
    "    temp_df = pd.concat([revenue_per_store, revenue_per_store_filtered], axis=1).fillna(0)\n",
    "    # Show temporal df\n",
    "    if DEBUG:\n",
    "        display(temp_df.head(10))\n",
    "    pct_by_pay_method = (temp_df[f'revenue_{pay_method}']/temp_df['revenue']).to_frame() \\\n",
    "    .rename(columns={0:f'pct_{pay_method}'})\n",
    "    return pct_by_pay_method"
   ]
  },
  {
   "cell_type": "code",
   "execution_count": 289,
   "id": "dc0822ff",
   "metadata": {},
   "outputs": [
    {
     "data": {
      "text/html": [
       "<div>\n",
       "<style scoped>\n",
       "    .dataframe tbody tr th:only-of-type {\n",
       "        vertical-align: middle;\n",
       "    }\n",
       "\n",
       "    .dataframe tbody tr th {\n",
       "        vertical-align: top;\n",
       "    }\n",
       "\n",
       "    .dataframe thead th {\n",
       "        text-align: right;\n",
       "    }\n",
       "</style>\n",
       "<table border=\"1\" class=\"dataframe\">\n",
       "  <thead>\n",
       "    <tr style=\"text-align: right;\">\n",
       "      <th></th>\n",
       "      <th>revenue</th>\n",
       "      <th>revenue_cc</th>\n",
       "    </tr>\n",
       "    <tr>\n",
       "      <th>store</th>\n",
       "      <th></th>\n",
       "      <th></th>\n",
       "    </tr>\n",
       "  </thead>\n",
       "  <tbody>\n",
       "    <tr>\n",
       "      <th>1</th>\n",
       "      <td>201929817</td>\n",
       "      <td>186318196.0</td>\n",
       "    </tr>\n",
       "    <tr>\n",
       "      <th>2</th>\n",
       "      <td>3871475</td>\n",
       "      <td>3341701.0</td>\n",
       "    </tr>\n",
       "    <tr>\n",
       "      <th>3</th>\n",
       "      <td>4000246</td>\n",
       "      <td>2787398.0</td>\n",
       "    </tr>\n",
       "    <tr>\n",
       "      <th>4</th>\n",
       "      <td>5827298</td>\n",
       "      <td>4986456.0</td>\n",
       "    </tr>\n",
       "    <tr>\n",
       "      <th>5</th>\n",
       "      <td>4301348</td>\n",
       "      <td>3339639.0</td>\n",
       "    </tr>\n",
       "    <tr>\n",
       "      <th>6</th>\n",
       "      <td>146305</td>\n",
       "      <td>103575.0</td>\n",
       "    </tr>\n",
       "    <tr>\n",
       "      <th>7</th>\n",
       "      <td>3801</td>\n",
       "      <td>3801.0</td>\n",
       "    </tr>\n",
       "    <tr>\n",
       "      <th>8</th>\n",
       "      <td>3092649</td>\n",
       "      <td>2620032.0</td>\n",
       "    </tr>\n",
       "    <tr>\n",
       "      <th>9</th>\n",
       "      <td>18329730</td>\n",
       "      <td>16188011.0</td>\n",
       "    </tr>\n",
       "    <tr>\n",
       "      <th>10</th>\n",
       "      <td>876045</td>\n",
       "      <td>809393.0</td>\n",
       "    </tr>\n",
       "  </tbody>\n",
       "</table>\n",
       "</div>"
      ],
      "text/plain": [
       "         revenue   revenue_cc\n",
       "store                        \n",
       "1      201929817  186318196.0\n",
       "2        3871475    3341701.0\n",
       "3        4000246    2787398.0\n",
       "4        5827298    4986456.0\n",
       "5        4301348    3339639.0\n",
       "6         146305     103575.0\n",
       "7           3801       3801.0\n",
       "8        3092649    2620032.0\n",
       "9       18329730   16188011.0\n",
       "10        876045     809393.0"
      ]
     },
     "metadata": {},
     "output_type": "display_data"
    },
    {
     "data": {
      "text/html": [
       "<div>\n",
       "<style scoped>\n",
       "    .dataframe tbody tr th:only-of-type {\n",
       "        vertical-align: middle;\n",
       "    }\n",
       "\n",
       "    .dataframe tbody tr th {\n",
       "        vertical-align: top;\n",
       "    }\n",
       "\n",
       "    .dataframe thead th {\n",
       "        text-align: right;\n",
       "    }\n",
       "</style>\n",
       "<table border=\"1\" class=\"dataframe\">\n",
       "  <thead>\n",
       "    <tr style=\"text-align: right;\">\n",
       "      <th></th>\n",
       "      <th>revenue</th>\n",
       "      <th>revenue_cash</th>\n",
       "    </tr>\n",
       "    <tr>\n",
       "      <th>store</th>\n",
       "      <th></th>\n",
       "      <th></th>\n",
       "    </tr>\n",
       "  </thead>\n",
       "  <tbody>\n",
       "    <tr>\n",
       "      <th>1</th>\n",
       "      <td>201929817</td>\n",
       "      <td>15611621.0</td>\n",
       "    </tr>\n",
       "    <tr>\n",
       "      <th>2</th>\n",
       "      <td>3871475</td>\n",
       "      <td>529774.0</td>\n",
       "    </tr>\n",
       "    <tr>\n",
       "      <th>3</th>\n",
       "      <td>4000246</td>\n",
       "      <td>1212848.0</td>\n",
       "    </tr>\n",
       "    <tr>\n",
       "      <th>4</th>\n",
       "      <td>5827298</td>\n",
       "      <td>840842.0</td>\n",
       "    </tr>\n",
       "    <tr>\n",
       "      <th>5</th>\n",
       "      <td>4301348</td>\n",
       "      <td>961709.0</td>\n",
       "    </tr>\n",
       "    <tr>\n",
       "      <th>6</th>\n",
       "      <td>146305</td>\n",
       "      <td>42730.0</td>\n",
       "    </tr>\n",
       "    <tr>\n",
       "      <th>7</th>\n",
       "      <td>3801</td>\n",
       "      <td>0.0</td>\n",
       "    </tr>\n",
       "    <tr>\n",
       "      <th>8</th>\n",
       "      <td>3092649</td>\n",
       "      <td>472617.0</td>\n",
       "    </tr>\n",
       "    <tr>\n",
       "      <th>9</th>\n",
       "      <td>18329730</td>\n",
       "      <td>2141719.0</td>\n",
       "    </tr>\n",
       "    <tr>\n",
       "      <th>10</th>\n",
       "      <td>876045</td>\n",
       "      <td>66652.0</td>\n",
       "    </tr>\n",
       "  </tbody>\n",
       "</table>\n",
       "</div>"
      ],
      "text/plain": [
       "         revenue  revenue_cash\n",
       "store                         \n",
       "1      201929817    15611621.0\n",
       "2        3871475      529774.0\n",
       "3        4000246     1212848.0\n",
       "4        5827298      840842.0\n",
       "5        4301348      961709.0\n",
       "6         146305       42730.0\n",
       "7           3801           0.0\n",
       "8        3092649      472617.0\n",
       "9       18329730     2141719.0\n",
       "10        876045       66652.0"
      ]
     },
     "metadata": {},
     "output_type": "display_data"
    }
   ],
   "source": [
    "pct_by_pay_cc = get_pct_by_pay_method(df,'cc')\n",
    "pct_by_pay_cash = get_pct_by_pay_method(df,'cash')"
   ]
  },
  {
   "cell_type": "code",
   "execution_count": 290,
   "id": "d458ed87",
   "metadata": {},
   "outputs": [],
   "source": [
    "# Create ranking\n",
    "ranking_df = pd.concat([revenue, pct_by_pay_cc, pct_by_pay_cash], axis=1).fillna(0)"
   ]
  },
  {
   "cell_type": "code",
   "execution_count": 291,
   "id": "8423201b",
   "metadata": {},
   "outputs": [
    {
     "data": {
      "text/html": [
       "<div>\n",
       "<style scoped>\n",
       "    .dataframe tbody tr th:only-of-type {\n",
       "        vertical-align: middle;\n",
       "    }\n",
       "\n",
       "    .dataframe tbody tr th {\n",
       "        vertical-align: top;\n",
       "    }\n",
       "\n",
       "    .dataframe thead th {\n",
       "        text-align: right;\n",
       "    }\n",
       "</style>\n",
       "<table border=\"1\" class=\"dataframe\">\n",
       "  <thead>\n",
       "    <tr style=\"text-align: right;\">\n",
       "      <th></th>\n",
       "      <th>revenue</th>\n",
       "      <th>pct_cc</th>\n",
       "      <th>pct_cash</th>\n",
       "    </tr>\n",
       "    <tr>\n",
       "      <th>store</th>\n",
       "      <th></th>\n",
       "      <th></th>\n",
       "      <th></th>\n",
       "    </tr>\n",
       "  </thead>\n",
       "  <tbody>\n",
       "    <tr>\n",
       "      <th>1</th>\n",
       "      <td>201929817</td>\n",
       "      <td>0.922688</td>\n",
       "      <td>0.077312</td>\n",
       "    </tr>\n",
       "    <tr>\n",
       "      <th>13</th>\n",
       "      <td>21517956</td>\n",
       "      <td>0.862548</td>\n",
       "      <td>0.137452</td>\n",
       "    </tr>\n",
       "    <tr>\n",
       "      <th>9</th>\n",
       "      <td>18329730</td>\n",
       "      <td>0.883156</td>\n",
       "      <td>0.116844</td>\n",
       "    </tr>\n",
       "    <tr>\n",
       "      <th>4</th>\n",
       "      <td>5827298</td>\n",
       "      <td>0.855706</td>\n",
       "      <td>0.144294</td>\n",
       "    </tr>\n",
       "    <tr>\n",
       "      <th>5</th>\n",
       "      <td>4301348</td>\n",
       "      <td>0.776417</td>\n",
       "      <td>0.223583</td>\n",
       "    </tr>\n",
       "    <tr>\n",
       "      <th>12</th>\n",
       "      <td>4242174</td>\n",
       "      <td>0.837108</td>\n",
       "      <td>0.162892</td>\n",
       "    </tr>\n",
       "    <tr>\n",
       "      <th>3</th>\n",
       "      <td>4000246</td>\n",
       "      <td>0.696807</td>\n",
       "      <td>0.303193</td>\n",
       "    </tr>\n",
       "    <tr>\n",
       "      <th>2</th>\n",
       "      <td>3871475</td>\n",
       "      <td>0.863160</td>\n",
       "      <td>0.136840</td>\n",
       "    </tr>\n",
       "    <tr>\n",
       "      <th>8</th>\n",
       "      <td>3092649</td>\n",
       "      <td>0.847181</td>\n",
       "      <td>0.152819</td>\n",
       "    </tr>\n",
       "    <tr>\n",
       "      <th>16</th>\n",
       "      <td>2537155</td>\n",
       "      <td>0.829530</td>\n",
       "      <td>0.170470</td>\n",
       "    </tr>\n",
       "  </tbody>\n",
       "</table>\n",
       "</div>"
      ],
      "text/plain": [
       "         revenue    pct_cc  pct_cash\n",
       "store                               \n",
       "1      201929817  0.922688  0.077312\n",
       "13      21517956  0.862548  0.137452\n",
       "9       18329730  0.883156  0.116844\n",
       "4        5827298  0.855706  0.144294\n",
       "5        4301348  0.776417  0.223583\n",
       "12       4242174  0.837108  0.162892\n",
       "3        4000246  0.696807  0.303193\n",
       "2        3871475  0.863160  0.136840\n",
       "8        3092649  0.847181  0.152819\n",
       "16       2537155  0.829530  0.170470"
      ]
     },
     "execution_count": 291,
     "metadata": {},
     "output_type": "execute_result"
    }
   ],
   "source": [
    "ranking_df.sort_values(by='revenue', ascending=False).head(10)"
   ]
  },
  {
   "cell_type": "markdown",
   "id": "9e8cda7d",
   "metadata": {},
   "source": [
    "## AOV\n",
    "El ```aov``` (valor medio de la orden) se calcula de la siguiente manera:\n",
    "$$\\texttt{AOV} = \\frac{\\texttt{revenue}}{\\texttt{orders}}$$"
   ]
  },
  {
   "cell_type": "code",
   "execution_count": 276,
   "id": "92882552",
   "metadata": {},
   "outputs": [],
   "source": [
    "def get_orders_per_store(df:pd.DataFrame)->pd.DataFrame:\n",
    "    orders = df.groupby(by='store').count().order.to_frame().rename(columns={'order':'orders'})\n",
    "    return orders"
   ]
  },
  {
   "cell_type": "code",
   "execution_count": 319,
   "id": "68a676d0",
   "metadata": {},
   "outputs": [],
   "source": [
    "def get_aov_per_store(df:pd.DataFrame)->pd.DataFrame:\n",
    "    orders = get_orders_per_store(df)\n",
    "    revenue = get_revenue_per_store(df)\n",
    "    temp_df = pd.concat([orders, revenue], axis=1)\n",
    "    if DEBUG:\n",
    "        #display(temp_df)\n",
    "        pass\n",
    "    aov = (temp_df.revenue/temp_df.orders).to_frame().rename(columns={0:'aov'})\n",
    "    return aov"
   ]
  },
  {
   "cell_type": "code",
   "execution_count": 321,
   "id": "31d59105",
   "metadata": {},
   "outputs": [],
   "source": [
    "aov = get_aov_per_store(df)"
   ]
  },
  {
   "cell_type": "code",
   "execution_count": 324,
   "id": "6b6631bd",
   "metadata": {},
   "outputs": [],
   "source": [
    "ranking_df = ranking_df.join(aov)"
   ]
  },
  {
   "cell_type": "code",
   "execution_count": 327,
   "id": "54b2db0e",
   "metadata": {},
   "outputs": [
    {
     "data": {
      "text/html": [
       "<div>\n",
       "<style scoped>\n",
       "    .dataframe tbody tr th:only-of-type {\n",
       "        vertical-align: middle;\n",
       "    }\n",
       "\n",
       "    .dataframe tbody tr th {\n",
       "        vertical-align: top;\n",
       "    }\n",
       "\n",
       "    .dataframe thead th {\n",
       "        text-align: right;\n",
       "    }\n",
       "</style>\n",
       "<table border=\"1\" class=\"dataframe\">\n",
       "  <thead>\n",
       "    <tr style=\"text-align: right;\">\n",
       "      <th></th>\n",
       "      <th>revenue</th>\n",
       "      <th>pct_cc</th>\n",
       "      <th>pct_cash</th>\n",
       "      <th>aov</th>\n",
       "    </tr>\n",
       "    <tr>\n",
       "      <th>store</th>\n",
       "      <th></th>\n",
       "      <th></th>\n",
       "      <th></th>\n",
       "      <th></th>\n",
       "    </tr>\n",
       "  </thead>\n",
       "  <tbody>\n",
       "    <tr>\n",
       "      <th>1</th>\n",
       "      <td>201929817</td>\n",
       "      <td>0.922688</td>\n",
       "      <td>0.077312</td>\n",
       "      <td>31147.588616</td>\n",
       "    </tr>\n",
       "    <tr>\n",
       "      <th>13</th>\n",
       "      <td>21517956</td>\n",
       "      <td>0.862548</td>\n",
       "      <td>0.137452</td>\n",
       "      <td>17200.604317</td>\n",
       "    </tr>\n",
       "    <tr>\n",
       "      <th>9</th>\n",
       "      <td>18329730</td>\n",
       "      <td>0.883156</td>\n",
       "      <td>0.116844</td>\n",
       "      <td>13577.577778</td>\n",
       "    </tr>\n",
       "    <tr>\n",
       "      <th>4</th>\n",
       "      <td>5827298</td>\n",
       "      <td>0.855706</td>\n",
       "      <td>0.144294</td>\n",
       "      <td>8951.302611</td>\n",
       "    </tr>\n",
       "    <tr>\n",
       "      <th>5</th>\n",
       "      <td>4301348</td>\n",
       "      <td>0.776417</td>\n",
       "      <td>0.223583</td>\n",
       "      <td>5828.384824</td>\n",
       "    </tr>\n",
       "    <tr>\n",
       "      <th>12</th>\n",
       "      <td>4242174</td>\n",
       "      <td>0.837108</td>\n",
       "      <td>0.162892</td>\n",
       "      <td>5466.719072</td>\n",
       "    </tr>\n",
       "    <tr>\n",
       "      <th>3</th>\n",
       "      <td>4000246</td>\n",
       "      <td>0.696807</td>\n",
       "      <td>0.303193</td>\n",
       "      <td>8511.161702</td>\n",
       "    </tr>\n",
       "    <tr>\n",
       "      <th>2</th>\n",
       "      <td>3871475</td>\n",
       "      <td>0.863160</td>\n",
       "      <td>0.136840</td>\n",
       "      <td>10784.052925</td>\n",
       "    </tr>\n",
       "    <tr>\n",
       "      <th>8</th>\n",
       "      <td>3092649</td>\n",
       "      <td>0.847181</td>\n",
       "      <td>0.152819</td>\n",
       "      <td>3944.705357</td>\n",
       "    </tr>\n",
       "    <tr>\n",
       "      <th>16</th>\n",
       "      <td>2537155</td>\n",
       "      <td>0.829530</td>\n",
       "      <td>0.170470</td>\n",
       "      <td>8688.886986</td>\n",
       "    </tr>\n",
       "  </tbody>\n",
       "</table>\n",
       "</div>"
      ],
      "text/plain": [
       "         revenue    pct_cc  pct_cash           aov\n",
       "store                                             \n",
       "1      201929817  0.922688  0.077312  31147.588616\n",
       "13      21517956  0.862548  0.137452  17200.604317\n",
       "9       18329730  0.883156  0.116844  13577.577778\n",
       "4        5827298  0.855706  0.144294   8951.302611\n",
       "5        4301348  0.776417  0.223583   5828.384824\n",
       "12       4242174  0.837108  0.162892   5466.719072\n",
       "3        4000246  0.696807  0.303193   8511.161702\n",
       "2        3871475  0.863160  0.136840  10784.052925\n",
       "8        3092649  0.847181  0.152819   3944.705357\n",
       "16       2537155  0.829530  0.170470   8688.886986"
      ]
     },
     "execution_count": 327,
     "metadata": {},
     "output_type": "execute_result"
    }
   ],
   "source": [
    "ranking_df.sort_values(by='revenue', ascending=False).head(10)"
   ]
  }
 ],
 "metadata": {
  "kernelspec": {
   "display_name": "rappi_env",
   "language": "python",
   "name": "rappi_env"
  },
  "language_info": {
   "codemirror_mode": {
    "name": "ipython",
    "version": 3
   },
   "file_extension": ".py",
   "mimetype": "text/x-python",
   "name": "python",
   "nbconvert_exporter": "python",
   "pygments_lexer": "ipython3",
   "version": "3.9.5"
  }
 },
 "nbformat": 4,
 "nbformat_minor": 5
}
